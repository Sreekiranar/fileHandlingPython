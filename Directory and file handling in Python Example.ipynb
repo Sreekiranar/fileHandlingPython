{
 "cells": [
  {
   "cell_type": "code",
   "execution_count": 31,
   "metadata": {},
   "outputs": [],
   "source": [
    "from MakeTreeDir import MAKETREEDIR\n",
    "from treeHandler import treeHandler\n",
    "import os\n",
    "import cv2\n",
    "import time"
   ]
  },
  {
   "cell_type": "markdown",
   "metadata": {},
   "source": [
    "### Sample code to get all the jpg files from the inputFolder given, convert it to grayscale and store the output to outputFolder retaining the same structure"
   ]
  },
  {
   "cell_type": "code",
   "execution_count": 32,
   "metadata": {},
   "outputs": [],
   "source": [
    "### initialising input and output"
   ]
  },
  {
   "cell_type": "code",
   "execution_count": 33,
   "metadata": {},
   "outputs": [],
   "source": [
    "inputFolder='sampleData'\n",
    "outputFolder='outputFolder'\n"
   ]
  },
  {
   "cell_type": "code",
   "execution_count": 34,
   "metadata": {},
   "outputs": [
    {
     "name": "stdout",
     "output_type": "stream",
     "text": [
      "\u001b[01;34msampleData/\u001b[00m\r\n",
      "|-- dataframe01.csv\r\n",
      "|-- \u001b[01;34mfolder1\u001b[00m\r\n",
      "|   |-- dataframe11.csv\r\n",
      "|   |-- \u001b[01;34mfolder11\u001b[00m\r\n",
      "|   |   |-- \u001b[01;34mfolder111\u001b[00m\r\n",
      "|   |   |   |-- \u001b[01;34mfolder1111\u001b[00m\r\n",
      "|   |   |   |   |-- \u001b[01;35mimage11111.jpg\u001b[00m\r\n",
      "|   |   |   |   |-- \u001b[01;35mimage11112.jpg\u001b[00m\r\n",
      "|   |   |   |   |-- \u001b[01;35mimage11113.jpg\u001b[00m\r\n",
      "|   |   |   |   `-- \u001b[01;35mimage11114.jpg\u001b[00m\r\n",
      "|   |   |   |-- \u001b[01;35mimage1111.jpg\u001b[00m\r\n",
      "|   |   |   |-- \u001b[01;35mimage1112.jpg\u001b[00m\r\n",
      "|   |   |   `-- textFile1111.txt\r\n",
      "|   |   |-- \u001b[01;35mimage111.jpg\u001b[00m\r\n",
      "|   |   `-- \u001b[01;35mimage112.jpg\u001b[00m\r\n",
      "|   |-- \u001b[01;34mfolder12\u001b[00m\r\n",
      "|   |   |-- \u001b[01;34mfolder121\u001b[00m\r\n",
      "|   |   |   |-- \u001b[01;35mimage1211.jpg\u001b[00m\r\n",
      "|   |   |   `-- \u001b[01;35mimage1212.jpg\u001b[00m\r\n",
      "|   |   |-- \u001b[01;35mimage121.jpg\u001b[00m\r\n",
      "|   |   `-- \u001b[01;35mimage122.jpg\u001b[00m\r\n",
      "|   |-- \u001b[01;35mimage11.jpg\u001b[00m\r\n",
      "|   `-- \u001b[01;35mimage12.jpg\u001b[00m\r\n",
      "|-- \u001b[01;34mfolder2\u001b[00m\r\n",
      "|   |-- \u001b[01;34mfolder22\u001b[00m\r\n",
      "|   |   |-- dataFrame221.csv\r\n",
      "|   |   |-- \u001b[01;35mimage221.jpg\u001b[00m\r\n",
      "|   |   `-- \u001b[01;35mimage222.jpg\u001b[00m\r\n",
      "|   |-- \u001b[01;35mimage21.jpg\u001b[00m\r\n",
      "|   |-- \u001b[01;35mimage22.jpg\u001b[00m\r\n",
      "|   `-- textFile21.txt\r\n",
      "|-- \u001b[01;35mimage01.jpg\u001b[00m\r\n",
      "|-- \u001b[01;35mimage02.jpg\u001b[00m\r\n",
      "|-- \u001b[01;35mimage03.jpg\u001b[00m\r\n",
      "|-- \u001b[01;35mimage04.jpg\u001b[00m\r\n",
      "`-- textFile01.txt\r\n",
      "\r\n",
      "8 directories, 28 files\r\n"
     ]
    }
   ],
   "source": [
    "### visualising tree structure (run this cell only on linux)\n",
    "!tree sampleData/"
   ]
  },
  {
   "cell_type": "code",
   "execution_count": 36,
   "metadata": {},
   "outputs": [],
   "source": [
    "### initialising treeHandler object\n",
    "th=treeHandler()\n",
    "### calling getFiles function to get all jpg files\n",
    "fileDict=th.getFiles(inputFolder,['jpg'])\n",
    "\n",
    "###parsing through each image, convert it to grayscale (sample basic algo) and write in output folder\n",
    "for fileName,filePath in outDict.items():\n",
    "    ###creating output folder\n",
    "    outPath=os.path.join(outputFolder,filePath)\n",
    "    os.makedirs(outPath,exist_ok=True)\n",
    "\n",
    "    imagePath=os.path.join(filePath,fileName)\n",
    "    \n",
    "    ###simple code to convert image to grayscale, replace with required process, depending on your usecase\n",
    "    image=cv2.imread(os.path.join(imagePath))\n",
    "    imageGray=cv2.cvtColor(image,cv2.COLOR_BGR2GRAY)\n",
    "\n",
    "\n",
    "    ###writing output to the required destination mapping with the original fileName\n",
    "    cv2.imwrite(os.path.join(outPath,\"output_{}\".format(fileName)),imageGray)"
   ]
  },
  {
   "cell_type": "code",
   "execution_count": 37,
   "metadata": {},
   "outputs": [
    {
     "name": "stdout",
     "output_type": "stream",
     "text": [
      "\u001b[01;34moutputFolder\u001b[00m\r\n",
      "`-- \u001b[01;34msampleData\u001b[00m\r\n",
      "    |-- \u001b[01;34mfolder1\u001b[00m\r\n",
      "    |   |-- \u001b[01;34mfolder11\u001b[00m\r\n",
      "    |   |   |-- \u001b[01;34mfolder111\u001b[00m\r\n",
      "    |   |   |   |-- \u001b[01;34mfolder1111\u001b[00m\r\n",
      "    |   |   |   |   |-- \u001b[01;35moutput_image11111.jpg\u001b[00m\r\n",
      "    |   |   |   |   |-- \u001b[01;35moutput_image11112.jpg\u001b[00m\r\n",
      "    |   |   |   |   |-- \u001b[01;35moutput_image11113.jpg\u001b[00m\r\n",
      "    |   |   |   |   `-- \u001b[01;35moutput_image11114.jpg\u001b[00m\r\n",
      "    |   |   |   |-- \u001b[01;35moutput_image1111.jpg\u001b[00m\r\n",
      "    |   |   |   `-- \u001b[01;35moutput_image1112.jpg\u001b[00m\r\n",
      "    |   |   |-- \u001b[01;35moutput_image111.jpg\u001b[00m\r\n",
      "    |   |   `-- \u001b[01;35moutput_image112.jpg\u001b[00m\r\n",
      "    |   |-- \u001b[01;34mfolder12\u001b[00m\r\n",
      "    |   |   |-- \u001b[01;34mfolder121\u001b[00m\r\n",
      "    |   |   |   |-- \u001b[01;35moutput_image1211.jpg\u001b[00m\r\n",
      "    |   |   |   `-- \u001b[01;35moutput_image1212.jpg\u001b[00m\r\n",
      "    |   |   |-- \u001b[01;35moutput_image121.jpg\u001b[00m\r\n",
      "    |   |   `-- \u001b[01;35moutput_image122.jpg\u001b[00m\r\n",
      "    |   |-- \u001b[01;35moutput_image11.jpg\u001b[00m\r\n",
      "    |   `-- \u001b[01;35moutput_image12.jpg\u001b[00m\r\n",
      "    |-- \u001b[01;34mfolder2\u001b[00m\r\n",
      "    |   |-- \u001b[01;34mfolder22\u001b[00m\r\n",
      "    |   |   |-- \u001b[01;35moutput_image221.jpg\u001b[00m\r\n",
      "    |   |   `-- \u001b[01;35moutput_image222.jpg\u001b[00m\r\n",
      "    |   |-- \u001b[01;35moutput_image21.jpg\u001b[00m\r\n",
      "    |   `-- \u001b[01;35moutput_image22.jpg\u001b[00m\r\n",
      "    |-- \u001b[01;35moutput_image01.jpg\u001b[00m\r\n",
      "    |-- \u001b[01;35moutput_image02.jpg\u001b[00m\r\n",
      "    |-- \u001b[01;35moutput_image03.jpg\u001b[00m\r\n",
      "    `-- \u001b[01;35moutput_image04.jpg\u001b[00m\r\n",
      "\r\n",
      "9 directories, 22 files\r\n"
     ]
    }
   ],
   "source": [
    "! tree outputFolder"
   ]
  },
  {
   "cell_type": "code",
   "execution_count": null,
   "metadata": {},
   "outputs": [],
   "source": []
  }
 ],
 "metadata": {
  "kernelspec": {
   "display_name": "Python 3",
   "language": "python",
   "name": "python3"
  },
  "language_info": {
   "codemirror_mode": {
    "name": "ipython",
    "version": 3
   },
   "file_extension": ".py",
   "mimetype": "text/x-python",
   "name": "python",
   "nbconvert_exporter": "python",
   "pygments_lexer": "ipython3",
   "version": "3.4.3"
  }
 },
 "nbformat": 4,
 "nbformat_minor": 2
}
