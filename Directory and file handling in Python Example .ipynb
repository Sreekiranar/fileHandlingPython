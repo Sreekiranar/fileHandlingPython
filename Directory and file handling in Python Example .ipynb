{
 "cells": [
  {
   "cell_type": "code",
   "execution_count": 20,
   "metadata": {},
   "outputs": [],
   "source": [
    "from MakeTreeDir import MAKETREEDIR\n",
    "from treeHandler import treeHandler\n",
    "import os\n",
    "import cv2"
   ]
  },
  {
   "cell_type": "markdown",
   "metadata": {},
   "source": [
    "### Sample code to get all the jpg files from the inputFolder given, convert it to grayscale and store the output to outputFolder retaining the same structure"
   ]
  },
  {
   "cell_type": "code",
   "execution_count": 21,
   "metadata": {},
   "outputs": [],
   "source": [
    "### initialising input and output"
   ]
  },
  {
   "cell_type": "code",
   "execution_count": 22,
   "metadata": {},
   "outputs": [],
   "source": [
    "inputFolder='sampleData'\n",
    "outputFolder='outputFolder'\n"
   ]
  },
  {
   "cell_type": "code",
   "execution_count": 23,
   "metadata": {},
   "outputs": [
    {
     "name": "stdout",
     "output_type": "stream",
     "text": [
      "\u001b[01;34msampleData/\u001b[00m\r\n",
      "|-- dataframe01.csv\r\n",
      "|-- \u001b[01;34mfolder1\u001b[00m\r\n",
      "|   |-- dataframe11.csv\r\n",
      "|   |-- \u001b[01;34mfolder11\u001b[00m\r\n",
      "|   |   |-- \u001b[01;34mfolder111\u001b[00m\r\n",
      "|   |   |   |-- \u001b[01;34mfolder1111\u001b[00m\r\n",
      "|   |   |   |   |-- \u001b[01;35mimage11111.jpg\u001b[00m\r\n",
      "|   |   |   |   |-- \u001b[01;35mimage11112.jpg\u001b[00m\r\n",
      "|   |   |   |   |-- \u001b[01;35mimage11113.jpg\u001b[00m\r\n",
      "|   |   |   |   `-- \u001b[01;35mimage11114.jpg\u001b[00m\r\n",
      "|   |   |   |-- \u001b[01;35mimage1111.jpg\u001b[00m\r\n",
      "|   |   |   |-- \u001b[01;35mimage1112.jpg\u001b[00m\r\n",
      "|   |   |   `-- textFile1111.txt\r\n",
      "|   |   |-- \u001b[01;35mimage111.jpg\u001b[00m\r\n",
      "|   |   `-- \u001b[01;35mimage112.jpg\u001b[00m\r\n",
      "|   |-- \u001b[01;34mfolder12\u001b[00m\r\n",
      "|   |   |-- \u001b[01;34mfolder121\u001b[00m\r\n",
      "|   |   |   |-- \u001b[01;35mimage1211.jpg\u001b[00m\r\n",
      "|   |   |   `-- \u001b[01;35mimage1212.jpg\u001b[00m\r\n",
      "|   |   |-- \u001b[01;35mimage121.jpg\u001b[00m\r\n",
      "|   |   `-- \u001b[01;35mimage122.jpg\u001b[00m\r\n",
      "|   |-- \u001b[01;35mimage11.jpg\u001b[00m\r\n",
      "|   `-- \u001b[01;35mimage12.jpg\u001b[00m\r\n",
      "|-- \u001b[01;34mfolder2\u001b[00m\r\n",
      "|   |-- \u001b[01;34mfolder22\u001b[00m\r\n",
      "|   |   |-- dataFrame221.csv\r\n",
      "|   |   |-- \u001b[01;35mimage221.jpg\u001b[00m\r\n",
      "|   |   `-- \u001b[01;35mimage222.jpg\u001b[00m\r\n",
      "|   |-- \u001b[01;35mimage21.jpg\u001b[00m\r\n",
      "|   |-- \u001b[01;35mimage22.jpg\u001b[00m\r\n",
      "|   `-- textFile21.txt\r\n",
      "|-- \u001b[01;35mimage01.jpg\u001b[00m\r\n",
      "|-- \u001b[01;35mimage02.jpg\u001b[00m\r\n",
      "|-- \u001b[01;35mimage03.jpg\u001b[00m\r\n",
      "|-- \u001b[01;35mimage04.jpg\u001b[00m\r\n",
      "`-- textFile01.txt\r\n",
      "\r\n",
      "8 directories, 28 files\r\n"
     ]
    }
   ],
   "source": [
    "### visualising tree structure (run this cell only on linux)\n",
    "!tree sampleData/"
   ]
  },
  {
   "cell_type": "code",
   "execution_count": 24,
   "metadata": {},
   "outputs": [
    {
     "data": {
      "text/plain": [
       "['image01.jpg',\n",
       " 'image02.jpg',\n",
       " 'image03.jpg',\n",
       " 'image04.jpg',\n",
       " 'folder1/image11.jpg',\n",
       " 'folder1/image12.jpg',\n",
       " 'folder1/folder11/image111.jpg',\n",
       " 'folder1/folder11/image112.jpg',\n",
       " 'folder1/folder11/folder111/image1111.jpg',\n",
       " 'folder1/folder11/folder111/image1112.jpg']"
      ]
     },
     "execution_count": 24,
     "metadata": {},
     "output_type": "execute_result"
    }
   ],
   "source": [
    "### initialising treeHandler class\n",
    "th=treeHandler()\n",
    "\n",
    "###getting all image files\n",
    "imageList=th.getFiles(inputFolder,['jpg'])\n",
    "\n",
    "imageList[0:10]"
   ]
  },
  {
   "cell_type": "code",
   "execution_count": 25,
   "metadata": {},
   "outputs": [
    {
     "name": "stdout",
     "output_type": "stream",
     "text": [
      "['', 'folder1/folder12', 'folder1/folder11/folder111', 'folder2/folder22', 'folder1/folder11']\n"
     ]
    }
   ],
   "source": [
    "### getting all subfolders and creating directories\n",
    "\n",
    "### getting subfolderPath of all files using function th.findFileFolder and getting unique subFolderList\n",
    "folderList=list(set(map(lambda x: th.findFileFolder(x),imageList)))\n",
    "\n",
    "print(folderList[0:5])"
   ]
  },
  {
   "cell_type": "code",
   "execution_count": 26,
   "metadata": {},
   "outputs": [
    {
     "data": {
      "text/plain": [
       "[0, 0, 0, 0, 0, 0, 0, 0, 0]"
      ]
     },
     "execution_count": 26,
     "metadata": {},
     "output_type": "execute_result"
    }
   ],
   "source": [
    "### initialising maketreedir class\n",
    "md=MAKETREEDIR()\n",
    "###applying md.makedir to create all subfolders in subfolderList\n",
    "[md.makedir(os.path.join(outputFolder,fol)) for fol in folderList]"
   ]
  },
  {
   "cell_type": "code",
   "execution_count": 27,
   "metadata": {},
   "outputs": [
    {
     "name": "stdout",
     "output_type": "stream",
     "text": [
      "\u001b[01;34moutputFolder\u001b[00m\r\n",
      "|-- \u001b[01;34mfolder1\u001b[00m\r\n",
      "|   |-- \u001b[01;34mfolder11\u001b[00m\r\n",
      "|   |   `-- \u001b[01;34mfolder111\u001b[00m\r\n",
      "|   |       `-- \u001b[01;34mfolder1111\u001b[00m\r\n",
      "|   `-- \u001b[01;34mfolder12\u001b[00m\r\n",
      "|       `-- \u001b[01;34mfolder121\u001b[00m\r\n",
      "`-- \u001b[01;34mfolder2\u001b[00m\r\n",
      "    `-- \u001b[01;34mfolder22\u001b[00m\r\n",
      "\r\n",
      "8 directories, 0 files\r\n"
     ]
    }
   ],
   "source": [
    "### visualising tree structure (run this cell only on linux)\n",
    "!tree outputFolder"
   ]
  },
  {
   "cell_type": "code",
   "execution_count": 28,
   "metadata": {},
   "outputs": [],
   "source": [
    "### processing bg2grayScale algorithm for all the files and saving them in to the folder required\n",
    "\n",
    "for i,imagePath in enumerate(imageList):\n",
    "    ###getting subfolderpath\n",
    "    subFolderPath=th.findFileFolder(imagePath)\n",
    "    ###getting fileName\n",
    "    fileName=imagePath.replace(subFolderPath,'').replace('/','').replace('\\\\','')\n",
    "    ###destination to save the output\n",
    "    outPath=os.path.join(outputFolder,subFolderPath)\n",
    "    \n",
    "    ###simple code to convert image to grayscale, replace with whatver process, depending on your usecase\n",
    "    image=cv2.imread(os.path.join(inputFolder,imagePath))\n",
    "    imageGray=cv2.cvtColor(image,cv2.COLOR_BGR2GRAY)\n",
    "    ###writing output to the required destination mapping with the original fileName\n",
    "    cv2.imwrite(os.path.join(outPath,\"output_{}\".format(fileName)),imageGray)"
   ]
  },
  {
   "cell_type": "code",
   "execution_count": 29,
   "metadata": {},
   "outputs": [
    {
     "name": "stdout",
     "output_type": "stream",
     "text": [
      "\u001b[01;34moutputFolder\u001b[00m\r\n",
      "|-- \u001b[01;34mfolder1\u001b[00m\r\n",
      "|   |-- \u001b[01;34mfolder11\u001b[00m\r\n",
      "|   |   |-- \u001b[01;34mfolder111\u001b[00m\r\n",
      "|   |   |   |-- \u001b[01;34mfolder1111\u001b[00m\r\n",
      "|   |   |   |   |-- \u001b[01;35moutput_image11111.jpg\u001b[00m\r\n",
      "|   |   |   |   |-- \u001b[01;35moutput_image11112.jpg\u001b[00m\r\n",
      "|   |   |   |   |-- \u001b[01;35moutput_image11113.jpg\u001b[00m\r\n",
      "|   |   |   |   `-- \u001b[01;35moutput_image11114.jpg\u001b[00m\r\n",
      "|   |   |   |-- \u001b[01;35moutput_image1111.jpg\u001b[00m\r\n",
      "|   |   |   `-- \u001b[01;35moutput_image1112.jpg\u001b[00m\r\n",
      "|   |   |-- \u001b[01;35moutput_image111.jpg\u001b[00m\r\n",
      "|   |   `-- \u001b[01;35moutput_image112.jpg\u001b[00m\r\n",
      "|   |-- \u001b[01;34mfolder12\u001b[00m\r\n",
      "|   |   |-- \u001b[01;34mfolder121\u001b[00m\r\n",
      "|   |   |   |-- \u001b[01;35moutput_image1211.jpg\u001b[00m\r\n",
      "|   |   |   `-- \u001b[01;35moutput_image1212.jpg\u001b[00m\r\n",
      "|   |   |-- \u001b[01;35moutput_image121.jpg\u001b[00m\r\n",
      "|   |   `-- \u001b[01;35moutput_image122.jpg\u001b[00m\r\n",
      "|   |-- \u001b[01;35moutput_image11.jpg\u001b[00m\r\n",
      "|   `-- \u001b[01;35moutput_image12.jpg\u001b[00m\r\n",
      "|-- \u001b[01;34mfolder2\u001b[00m\r\n",
      "|   |-- \u001b[01;34mfolder22\u001b[00m\r\n",
      "|   |   |-- \u001b[01;35moutput_image221.jpg\u001b[00m\r\n",
      "|   |   `-- \u001b[01;35moutput_image222.jpg\u001b[00m\r\n",
      "|   |-- \u001b[01;35moutput_image21.jpg\u001b[00m\r\n",
      "|   `-- \u001b[01;35moutput_image22.jpg\u001b[00m\r\n",
      "|-- \u001b[01;35moutput_image01.jpg\u001b[00m\r\n",
      "|-- \u001b[01;35moutput_image02.jpg\u001b[00m\r\n",
      "|-- \u001b[01;35moutput_image03.jpg\u001b[00m\r\n",
      "`-- \u001b[01;35moutput_image04.jpg\u001b[00m\r\n",
      "\r\n",
      "8 directories, 22 files\r\n"
     ]
    }
   ],
   "source": [
    "! tree outputFolder"
   ]
  },
  {
   "cell_type": "code",
   "execution_count": null,
   "metadata": {},
   "outputs": [],
   "source": []
  }
 ],
 "metadata": {
  "kernelspec": {
   "display_name": "Python 3",
   "language": "python",
   "name": "python3"
  },
  "language_info": {
   "codemirror_mode": {
    "name": "ipython",
    "version": 3
   },
   "file_extension": ".py",
   "mimetype": "text/x-python",
   "name": "python",
   "nbconvert_exporter": "python",
   "pygments_lexer": "ipython3",
   "version": "3.4.3"
  }
 },
 "nbformat": 4,
 "nbformat_minor": 2
}
